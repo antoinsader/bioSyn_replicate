{
 "cells": [
  {
   "cell_type": "code",
   "execution_count": 2,
   "metadata": {},
   "outputs": [
    {
     "name": "stderr",
     "output_type": "stream",
     "text": [
      "  0%|          | 0/90599 [00:00<?, ?it/s]"
     ]
    },
    {
     "name": "stderr",
     "output_type": "stream",
     "text": [
      "100%|██████████| 90599/90599 [00:00<00:00, 1439213.08it/s]\n",
      "100%|██████████| 691/691 [00:00<00:00, 12735.26it/s]\n"
     ]
    }
   ],
   "source": [
    "from biosyn.dataloader import load_dictionary, load_queries\n",
    "from transformers import AutoModel, AutoTokenizer\n",
    "import torch\n",
    "TRAIN_DICT_PATH = \"./data/data-ncbi-fair/train_dictionary.txt\"\n",
    "TRAIN_DIR = \"./data/data-ncbi-fair/traindev\"\n",
    "\n",
    "train_dictionary  = load_dictionary(dict_path=TRAIN_DICT_PATH)\n",
    "train_queries  = load_queries(data_dir=TRAIN_DIR, filter_composite=False, filter_duplicates=False, filter_cuiless=True)\n",
    "\n",
    "# train_dictionary = train_dictionary[:50]\n",
    "train_queries = train_queries[:10]\n",
    "\n",
    "tokenizer = AutoTokenizer.from_pretrained('dmis-lab/biobert-base-cased-v1.1')\n",
    "encoder = AutoModel.from_pretrained('dmis-lab/biobert-base-cased-v1.1')\n",
    "\n",
    "\n",
    "max_length = 25\n",
    "\n",
    "\n",
    "query_names, query_ids = [row[0] for row in train_queries], [row[1] for row in train_queries]\n",
    "dict_names, dict_ids = [row[0] for row in train_dictionary], [row[1] for row in train_dictionary]\n",
    "topk = 4"
   ]
  },
  {
   "cell_type": "code",
   "execution_count": 3,
   "metadata": {},
   "outputs": [
    {
     "data": {
      "text/plain": [
       "array([[ 1975,  6319, 20703, 72395],\n",
       "       [ 1975, 12987, 18556, 21810],\n",
       "       [18118, 67536,  4804, 20365],\n",
       "       [18118, 74007, 20594, 13752],\n",
       "       [59360, 64499, 45507, 56247],\n",
       "       [18244, 78950, 29542, 32328],\n",
       "       [18192,  6740, 83380, 10547],\n",
       "       [18244,  3215, 15565, 58657],\n",
       "       [18244, 45008, 31817, 88936],\n",
       "       [18192, 62700, 28704, 28204]], dtype=int32)"
      ]
     },
     "execution_count": 3,
     "metadata": {},
     "output_type": "execute_result"
    }
   ],
   "source": [
    "import numpy as np\n",
    "m = len(query_names)\n",
    "n = len(dict_names)\n",
    "cand_idxs = np.random.randint(0,n, size=(m, topk))\n",
    "for c_idx, q_cands in enumerate(cand_idxs):\n",
    "    correct_dict_idxs = [idx  for idx, id in enumerate(dict_ids) if query_ids[c_idx] in id]\n",
    "    if len(correct_dict_idxs) > 0:\n",
    "        q_cands[0] = correct_dict_idxs[0]\n",
    "\n",
    "cand_idxs"
   ]
  },
  {
   "cell_type": "code",
   "execution_count": 4,
   "metadata": {},
   "outputs": [],
   "source": [
    "dict_id_sets = [set(s.split(\"|\")) if isinstance(s, str) else set(s) for s in dict_ids]\n",
    "query_id_tokens = [tuple(q.split(\"|\")) if isinstance(q, str) else tuple(q) for q in query_ids]\n",
    "\n",
    "labels_per_query = []\n",
    "for q_idx, q_cand_idxs in enumerate(cand_idxs):\n",
    "    q_id_tokens = query_id_tokens[q_idx]\n",
    "    labels = np.fromiter(\n",
    "        (1.0 if all(tok in dict_id_sets[i] for tok in q_id_tokens) else 0.0 for i in q_cand_idxs),\n",
    "        dtype=np.float32,\n",
    "        count=len(q_cand_idxs)\n",
    "    )\n",
    "    labels_per_query.append(labels)\n"
   ]
  },
  {
   "cell_type": "code",
   "execution_count": 5,
   "metadata": {},
   "outputs": [
    {
     "data": {
      "text/plain": [
       "[array([1., 0., 0., 0.], dtype=float32),\n",
       " array([1., 0., 0., 0.], dtype=float32),\n",
       " array([1., 0., 0., 0.], dtype=float32),\n",
       " array([1., 0., 0., 0.], dtype=float32),\n",
       " array([1., 0., 0., 0.], dtype=float32),\n",
       " array([1., 0., 0., 0.], dtype=float32),\n",
       " array([1., 0., 0., 0.], dtype=float32),\n",
       " array([1., 0., 0., 0.], dtype=float32),\n",
       " array([1., 0., 0., 0.], dtype=float32),\n",
       " array([1., 0., 0., 0.], dtype=float32)]"
      ]
     },
     "execution_count": 5,
     "metadata": {},
     "output_type": "execute_result"
    }
   ],
   "source": [
    "labels_per_query"
   ]
  },
  {
   "cell_type": "code",
   "execution_count": 8,
   "metadata": {},
   "outputs": [],
   "source": [
    "def check_label(query_id, candidate_id_set):\n",
    "    \"\"\"\n",
    "        check if all q_id in query_id.split(\"|\") exists in candidate_id_set \n",
    "    \"\"\"\n",
    "    label = 0\n",
    "    query_ids = query_id.split(\"|\")\n",
    "    for q_id in query_ids:\n",
    "        if q_id in candidate_id_set:\n",
    "            label = 1\n",
    "            continue\n",
    "        else:\n",
    "            label = 0\n",
    "            break\n",
    "    return label\n",
    "\n",
    "def get_labels(query_idx, candidate_idxs):\n",
    "    labels = np.array([])\n",
    "    query_id = query_ids[query_idx]\n",
    "    candidate_ids = np.array(dict_ids)[candidate_idxs]\n",
    "    for candidate_id in candidate_ids:\n",
    "        label = check_label(query_id, candidate_id)\n",
    "        labels = np.append(labels, label)\n",
    "    return labels\n"
   ]
  },
  {
   "cell_type": "code",
   "execution_count": 10,
   "metadata": {},
   "outputs": [],
   "source": [
    "all_query_labels = []\n",
    "for query_idx, topk_ids in enumerate(query_ids):\n",
    "    d_cand_idxs = cand_idxs[query_idx]\n",
    "    topk_candidate_idx = np.array(d_cand_idxs)\n",
    "    labels = get_labels(query_idx, topk_candidate_idx).astype(np.float32)\n",
    "    all_query_labels.append(labels)"
   ]
  },
  {
   "cell_type": "code",
   "execution_count": 11,
   "metadata": {},
   "outputs": [
    {
     "data": {
      "text/plain": [
       "[array([1., 0., 0., 0.], dtype=float32),\n",
       " array([1., 0., 0., 0.], dtype=float32),\n",
       " array([1., 0., 0., 0.], dtype=float32),\n",
       " array([1., 0., 0., 0.], dtype=float32),\n",
       " array([1., 0., 0., 0.], dtype=float32),\n",
       " array([1., 0., 0., 0.], dtype=float32),\n",
       " array([1., 0., 0., 0.], dtype=float32),\n",
       " array([1., 0., 0., 0.], dtype=float32),\n",
       " array([1., 0., 0., 0.], dtype=float32),\n",
       " array([1., 0., 0., 0.], dtype=float32)]"
      ]
     },
     "execution_count": 11,
     "metadata": {},
     "output_type": "execute_result"
    }
   ],
   "source": [
    "all_query_labels"
   ]
  }
 ],
 "metadata": {
  "kernelspec": {
   "display_name": "myenv",
   "language": "python",
   "name": "python3"
  },
  "language_info": {
   "codemirror_mode": {
    "name": "ipython",
    "version": 3
   },
   "file_extension": ".py",
   "mimetype": "text/x-python",
   "name": "python",
   "nbconvert_exporter": "python",
   "pygments_lexer": "ipython3",
   "version": "3.11.1"
  }
 },
 "nbformat": 4,
 "nbformat_minor": 2
}

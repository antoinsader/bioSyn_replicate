{
 "cells": [
  {
   "cell_type": "code",
   "execution_count": 1,
   "metadata": {},
   "outputs": [],
   "source": [
    "import json\n",
    "import numpy as np\n",
    "import torch\n",
    "from utils import get_pkl\n"
   ]
  },
  {
   "cell_type": "code",
   "execution_count": 2,
   "metadata": {},
   "outputs": [],
   "source": [
    "train_dictionary = get_pkl(f\"./data/pkls/train_queries.pkl\")\n",
    "train_queries = get_pkl(f\"./data/pkls/train_queries.pkl\")\n",
    "\n",
    "query_names, query_ids = [row[0] for row in train_queries], [row[1] for row in train_queries]\n",
    "dict_names, dict_ids = [row[0] for row in train_dictionary], [row[1] for row in train_dictionary]\n"
   ]
  },
  {
   "cell_type": "code",
   "execution_count": 3,
   "metadata": {},
   "outputs": [
    {
     "name": "stderr",
     "output_type": "stream",
     "text": [
      "c:\\Users\\antoi\\Desktop\\thesis\\1_2_biosyn_replicate\\git_repo_final\\myenv\\Lib\\site-packages\\tqdm\\auto.py:21: TqdmWarning: IProgress not found. Please update jupyter and ipywidgets. See https://ipywidgets.readthedocs.io/en/stable/user_install.html\n",
      "  from .autonotebook import tqdm as notebook_tqdm\n"
     ]
    }
   ],
   "source": [
    "\n",
    "from biosyn.biosyn import BioSyn\n",
    "biosyn = BioSyn(25, False, 20, 'dmis-lab/biobert-base-cased-v1.1' )\n",
    "\n",
    "   "
   ]
  },
  {
   "cell_type": "code",
   "execution_count": 4,
   "metadata": {},
   "outputs": [],
   "source": [
    "encoder = biosyn.encoder\n",
    "tokenizer = biosyn.tokenizer"
   ]
  },
  {
   "cell_type": "code",
   "execution_count": 5,
   "metadata": {},
   "outputs": [],
   "source": [
    "query_names = query_names[:20]\n",
    "dict_names = dict_names[:100]\n",
    "max_length = 25\n",
    "\n",
    "\n",
    "all_query_names_tokens = tokenizer(query_names, max_length=max_length,padding='max_length', truncation=True, return_tensors='pt' )\n",
    "all_dict_names_tokens= tokenizer(dict_names, max_length=max_length,padding='max_length', truncation=True, return_tensors='pt')"
   ]
  },
  {
   "cell_type": "code",
   "execution_count": 6,
   "metadata": {},
   "outputs": [
    {
     "data": {
      "text/plain": [
       "torch.Size([20, 25])"
      ]
     },
     "execution_count": 6,
     "metadata": {},
     "output_type": "execute_result"
    }
   ],
   "source": [
    "all_query_names_tokens[\"input_ids\"].shape"
   ]
  },
  {
   "cell_type": "code",
   "execution_count": 7,
   "metadata": {},
   "outputs": [],
   "source": [
    "topk = 3\n",
    "\n",
    "cand_tokens_inp = np.empty(shape=( len(all_query_names_tokens[\"input_ids\"]), topk, max_length ), dtype=np.int32)\n",
    "cand_tokens_att = np.empty(shape=( len(all_query_names_tokens[\"input_ids\"]), topk, max_length ), dtype=np.int32)\n",
    "\n",
    "\n",
    "for idx in range(len(all_query_names_tokens[\"input_ids\"])):\n",
    "    cand_idxs = np.random.choice(len(all_dict_names_tokens), size=topk, replace=False)\n",
    "    cand_tokens_inp[idx] = all_dict_names_tokens[\"input_ids\"][cand_idxs]\n",
    "    cand_tokens_att[idx] = all_dict_names_tokens[\"attention_mask\"][cand_idxs]\n",
    "\n"
   ]
  },
  {
   "cell_type": "code",
   "execution_count": 8,
   "metadata": {},
   "outputs": [
    {
     "data": {
      "text/plain": [
       "torch.Size([20, 1, 768])"
      ]
     },
     "execution_count": 8,
     "metadata": {},
     "output_type": "execute_result"
    }
   ],
   "source": [
    "query_embed = encoder(\n",
    "        input_ids=all_query_names_tokens[\"input_ids\"].squeeze(1),\n",
    "        attention_mask=all_query_names_tokens[\"attention_mask\"].squeeze(1),\n",
    "        return_dict=False)[0] # (B, L, H)\n",
    "query_embed = query_embed[:,0, :].unsqueeze(1)\n",
    "query_embed.shape"
   ]
  },
  {
   "cell_type": "code",
   "execution_count": 9,
   "metadata": {},
   "outputs": [
    {
     "data": {
      "text/plain": [
       "(20, 3, 25)"
      ]
     },
     "execution_count": 9,
     "metadata": {},
     "output_type": "execute_result"
    }
   ],
   "source": [
    "cand_tokens_inp.shape"
   ]
  },
  {
   "cell_type": "code",
   "execution_count": 10,
   "metadata": {},
   "outputs": [
    {
     "data": {
      "text/plain": [
       "torch.Size([20, 3, 768])"
      ]
     },
     "execution_count": 10,
     "metadata": {},
     "output_type": "execute_result"
    }
   ],
   "source": [
    "cand_tokens_inp1 = torch.tensor(cand_tokens_inp).reshape(-1, max_length)\n",
    "cand_tokens_att1 = torch.tensor(cand_tokens_att).reshape(-1, max_length)\n",
    "\n",
    "\n",
    "\n",
    "\n",
    "candidate_embeds = encoder(\n",
    "    input_ids=cand_tokens_inp1,\n",
    "    attention_mask=cand_tokens_att1,\n",
    "    return_dict=False\n",
    ")[0] #shape B L H\n",
    "\n",
    "candidate_embeds = candidate_embeds[:,0,:].reshape(20, topk, -1).contiguous()\n",
    "\n",
    "candidate_embeds.shape"
   ]
  },
  {
   "cell_type": "code",
   "execution_count": 11,
   "metadata": {},
   "outputs": [
    {
     "data": {
      "text/plain": [
       "torch.Size([20, 3])"
      ]
     },
     "execution_count": 11,
     "metadata": {},
     "output_type": "execute_result"
    }
   ],
   "source": [
    "sc = torch.bmm(query_embed, candidate_embeds.permute(0,2,1)).squeeze(1)\n",
    "sc.shape"
   ]
  },
  {
   "cell_type": "code",
   "execution_count": null,
   "metadata": {},
   "outputs": [],
   "source": [
    "cand_tokens_inp2 = torch.tensor(cand_tokens_inp) # B , top_K, max_length \n",
    "cand_tokens_att2 = torch.tensor(cand_tokens_att)\n",
    "\n",
    "\n",
    "chunk_size = 6\n",
    "batch_size=20\n",
    "\n",
    "scores= torch.empty((batch_size, topk))\n",
    "cands_len = cand_tokens_inp2.shape[0]\n",
    "offset =0\n",
    "for start in range(0, cands_len, chunk_size ):\n",
    "    end = min(start + chunk_size, cands_len)\n",
    "    chunk_inp = cand_tokens_inp2[start:end, :, :].reshape(-1, max_length) # chunk_size * topk, L\n",
    "    chunk_att = cand_tokens_att2[start:end, : , :].reshape(-1, max_length)\n",
    "    chunk_cand_emb = encoder(input_ids=chunk_inp, attention_mask=chunk_att, return_dict=False)[0][:, 0, :] #cls #chunk_size * topk,  H\n",
    "    chunk_cand_emb = chunk_cand_emb.reshape((end-start), topk, -1).transpose(1,2)\n",
    "    chunk_query_embed = query_embed.squeeze(1)[start:end, :]\n",
    "    # print(f\"b1: {chunk_query_embed.unsqueeze(1).shape} , b2: {chunk_cand_emb.shape}\")\n",
    "    score= torch.bmm(chunk_query_embed.unsqueeze(1), chunk_cand_emb).squeeze(1)\n",
    "    scores[offset : offset + (end-start)] = torch.tensor(score.detach().numpy())\n",
    "    \n",
    "  \n",
    "    offset = end\n",
    "    del score\n",
    "\n",
    "print(scores.shape)"
   ]
  },
  {
   "cell_type": "code",
   "execution_count": null,
   "metadata": {},
   "outputs": [],
   "source": [
    "torch.allclose(scores, sc)"
   ]
  },
  {
   "cell_type": "code",
   "execution_count": null,
   "metadata": {},
   "outputs": [],
   "source": [
    "scores"
   ]
  },
  {
   "cell_type": "code",
   "execution_count": null,
   "metadata": {},
   "outputs": [],
   "source": [
    "sc"
   ]
  }
 ],
 "metadata": {
  "kernelspec": {
   "display_name": "myenv",
   "language": "python",
   "name": "python3"
  },
  "language_info": {
   "codemirror_mode": {
    "name": "ipython",
    "version": 3
   },
   "file_extension": ".py",
   "mimetype": "text/x-python",
   "name": "python",
   "nbconvert_exporter": "python",
   "pygments_lexer": "ipython3",
   "version": "3.11.1"
  }
 },
 "nbformat": 4,
 "nbformat_minor": 2
}

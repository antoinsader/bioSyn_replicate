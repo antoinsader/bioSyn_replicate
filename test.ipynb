{
 "cells": [
  {
   "cell_type": "code",
   "execution_count": 1,
   "metadata": {},
   "outputs": [],
   "source": [
    "import json\n",
    "import numpy as np\n",
    "import torch\n",
    "from utils import get_pkl\n"
   ]
  },
  {
   "cell_type": "code",
   "execution_count": 2,
   "metadata": {},
   "outputs": [],
   "source": [
    "train_dictionary = get_pkl(f\"./data/pkls/train_queries.pkl\")\n",
    "train_queries = get_pkl(f\"./data/pkls/train_queries.pkl\")\n",
    "\n",
    "query_names, query_ids = [row[0] for row in train_queries], [row[1] for row in train_queries]\n",
    "dict_names, dict_ids = [row[0] for row in train_dictionary], [row[1] for row in train_dictionary]\n"
   ]
  },
  {
   "cell_type": "code",
   "execution_count": 3,
   "metadata": {},
   "outputs": [
    {
     "name": "stderr",
     "output_type": "stream",
     "text": [
      "c:\\Users\\antoi\\Desktop\\thesis\\1_2_biosyn_replicate\\git_repo_final\\myenv\\Lib\\site-packages\\tqdm\\auto.py:21: TqdmWarning: IProgress not found. Please update jupyter and ipywidgets. See https://ipywidgets.readthedocs.io/en/stable/user_install.html\n",
      "  from .autonotebook import tqdm as notebook_tqdm\n"
     ]
    }
   ],
   "source": [
    "\n",
    "from biosyn.biosyn import BioSyn\n",
    "biosyn = BioSyn(25, False, 20, 'dmis-lab/biobert-base-cased-v1.1' )\n",
    "\n",
    "   "
   ]
  },
  {
   "cell_type": "code",
   "execution_count": 4,
   "metadata": {},
   "outputs": [],
   "source": [
    "encoder = biosyn.encoder\n",
    "tokenizer = biosyn.tokenizer"
   ]
  },
  {
   "cell_type": "code",
   "execution_count": 5,
   "metadata": {},
   "outputs": [],
   "source": [
    "query_names = query_names[:20]\n",
    "dict_names = dict_names[:100]\n",
    "max_length = 25\n",
    "\n",
    "\n",
    "all_query_names_tokens = tokenizer(query_names, max_length=max_length,padding='max_length', truncation=True, return_tensors='pt' )\n",
    "all_dict_names_tokens= tokenizer(dict_names, max_length=max_length,padding='max_length', truncation=True, return_tensors='pt')"
   ]
  },
  {
   "cell_type": "code",
   "execution_count": 6,
   "metadata": {},
   "outputs": [],
   "source": [
    "topk = 3\n",
    "\n",
    "cand_tokens_inp = np.empty(shape=( len(all_query_names_tokens[\"input_ids\"]), topk, max_length ), dtype=np.int32)\n",
    "cand_tokens_att = np.empty(shape=( len(all_query_names_tokens[\"input_ids\"]), topk, max_length ), dtype=np.int32)\n",
    "\n",
    "\n",
    "for idx in range(len(all_query_names_tokens[\"input_ids\"])):\n",
    "    cand_idxs = np.random.choice(len(all_dict_names_tokens), size=topk, replace=False)\n",
    "    cand_tokens_inp[idx] = all_dict_names_tokens[\"input_ids\"][cand_idxs]\n",
    "    cand_tokens_att[idx] = all_dict_names_tokens[\"attention_mask\"][cand_idxs]\n",
    "\n"
   ]
  },
  {
   "cell_type": "code",
   "execution_count": 7,
   "metadata": {},
   "outputs": [
    {
     "data": {
      "text/plain": [
       "torch.Size([20, 1, 768])"
      ]
     },
     "execution_count": 7,
     "metadata": {},
     "output_type": "execute_result"
    }
   ],
   "source": [
    "query_embed = encoder(\n",
    "        input_ids=all_query_names_tokens[\"input_ids\"].squeeze(1),\n",
    "        attention_mask=all_query_names_tokens[\"attention_mask\"].squeeze(1),\n",
    "        return_dict=False)[0] # (B, L, H)\n",
    "query_embed = query_embed[:,0, :].unsqueeze(1)\n",
    "query_embed.shape"
   ]
  },
  {
   "cell_type": "code",
   "execution_count": 8,
   "metadata": {},
   "outputs": [
    {
     "data": {
      "text/plain": [
       "(20, 3, 25)"
      ]
     },
     "execution_count": 8,
     "metadata": {},
     "output_type": "execute_result"
    }
   ],
   "source": [
    "cand_tokens_inp.shape"
   ]
  },
  {
   "cell_type": "code",
   "execution_count": 9,
   "metadata": {},
   "outputs": [
    {
     "data": {
      "text/plain": [
       "torch.Size([20, 3, 768])"
      ]
     },
     "execution_count": 9,
     "metadata": {},
     "output_type": "execute_result"
    }
   ],
   "source": [
    "cand_tokens_inp1 = torch.tensor(cand_tokens_inp).reshape(-1, max_length)\n",
    "cand_tokens_att1 = torch.tensor(cand_tokens_att).reshape(-1, max_length)\n",
    "\n",
    "\n",
    "\n",
    "\n",
    "candidate_embeds = encoder(\n",
    "    input_ids=cand_tokens_inp1,\n",
    "    attention_mask=cand_tokens_att1,\n",
    "    return_dict=False\n",
    ")[0] #shape B L H\n",
    "\n",
    "candidate_embeds = candidate_embeds[:,0,:].reshape(20, topk, -1).contiguous()\n",
    "\n",
    "candidate_embeds.shape"
   ]
  },
  {
   "cell_type": "code",
   "execution_count": 10,
   "metadata": {},
   "outputs": [
    {
     "data": {
      "text/plain": [
       "torch.Size([20, 3])"
      ]
     },
     "execution_count": 10,
     "metadata": {},
     "output_type": "execute_result"
    }
   ],
   "source": [
    "score = torch.bmm(query_embed, candidate_embeds.permute(0,2,1)).squeeze(1)\n",
    "score.shape"
   ]
  },
  {
   "cell_type": "code",
   "execution_count": 39,
   "metadata": {},
   "outputs": [
    {
     "data": {
      "text/plain": [
       "torch.Size([20, 3, 768])"
      ]
     },
     "execution_count": 39,
     "metadata": {},
     "output_type": "execute_result"
    }
   ],
   "source": [
    "candidate_embeds.shape"
   ]
  },
  {
   "cell_type": "code",
   "execution_count": 49,
   "metadata": {},
   "outputs": [
    {
     "data": {
      "text/plain": [
       "torch.Size([20, 768])"
      ]
     },
     "execution_count": 49,
     "metadata": {},
     "output_type": "execute_result"
    }
   ],
   "source": [
    "query_embed.shape"
   ]
  },
  {
   "cell_type": "code",
   "execution_count": 45,
   "metadata": {},
   "outputs": [
    {
     "name": "stdout",
     "output_type": "stream",
     "text": [
      "torch.Size([20, 3])\n"
     ]
    },
    {
     "ename": "RuntimeError",
     "evalue": "Expected size for first two dimensions of batch2 tensor to be: [0, 768] but got: [6, 768].",
     "output_type": "error",
     "traceback": [
      "\u001b[31m---------------------------------------------------------------------------\u001b[39m",
      "\u001b[31mRuntimeError\u001b[39m                              Traceback (most recent call last)",
      "\u001b[36mCell\u001b[39m\u001b[36m \u001b[39m\u001b[32mIn[45]\u001b[39m\u001b[32m, line 19\u001b[39m\n\u001b[32m     16\u001b[39m chunk_cand_emb = chunk_cand_emb.reshape(chunk_size, topk, -\u001b[32m1\u001b[39m).transpose(\u001b[32m1\u001b[39m,\u001b[32m2\u001b[39m)\n\u001b[32m     18\u001b[39m chunk_query_embed = query_embed[offset + start : offset + (end-start)]\n\u001b[32m---> \u001b[39m\u001b[32m19\u001b[39m score= \u001b[43mtorch\u001b[49m\u001b[43m.\u001b[49m\u001b[43mbmm\u001b[49m\u001b[43m(\u001b[49m\u001b[43mchunk_query_embed\u001b[49m\u001b[43m,\u001b[49m\u001b[43m \u001b[49m\u001b[43mchunk_cand_emb\u001b[49m\u001b[43m)\u001b[49m.squeeze(\u001b[32m1\u001b[39m)\n\u001b[32m     20\u001b[39m \u001b[38;5;28mprint\u001b[39m(scores.shape)\n\u001b[32m     24\u001b[39m \u001b[38;5;66;03m# scores[offset + start : offset + (end-start)] = score.numpy()\u001b[39;00m\n\u001b[32m     25\u001b[39m \u001b[38;5;66;03m# offset = end\u001b[39;00m\n\u001b[32m     26\u001b[39m \u001b[38;5;66;03m# del score\u001b[39;00m\n",
      "\u001b[31mRuntimeError\u001b[39m: Expected size for first two dimensions of batch2 tensor to be: [0, 768] but got: [6, 768]."
     ]
    }
   ],
   "source": [
    "cand_tokens_inp2 = torch.tensor(cand_tokens_inp) # B , top_K, max_length \n",
    "cand_tokens_att2 = torch.tensor(cand_tokens_att)\n",
    "\n",
    "\n",
    "chunk_size = 6\n",
    "batch_size=20\n",
    "\n",
    "scores= torch.empty((batch_size, topk))\n",
    "cands_len = cand_tokens_inp2.shape[0]\n",
    "offset =0\n",
    "for start in range(0, cands_len, chunk_size ):\n",
    "    end = min(start + chunk_size, cands_len)\n",
    "    chunk_inp = cand_tokens_inp2[start:end, :, :].reshape(-1, max_length) # chunk_size * topk, L\n",
    "    chunk_att = cand_tokens_att2[start:end, : , :].reshape(-1, max_length)\n",
    "    chunk_cand_emb = encoder(input_ids=chunk_inp, attention_mask=chunk_att, return_dict=False)[0][:, 0, :] #cls #chunk_size * topk,  H\n",
    "    chunk_cand_emb = chunk_cand_emb.reshape(chunk_size, topk, -1).transpose(1,2)\n",
    "    \n",
    "    chunk_query_embed = query_embed.squeeze(1)[offset + start : offset + (end-start)]\n",
    "    score= torch.bmm(chunk_query_embed, chunk_cand_emb).squeeze(1)\n",
    "    print(scores.shape)\n",
    "    \n",
    "    \n",
    "  \n",
    "    # scores[offset + start : offset + (end-start)] = score.numpy()\n",
    "    # offset = end\n",
    "    # del score\n"
   ]
  }
 ],
 "metadata": {
  "kernelspec": {
   "display_name": "myenv",
   "language": "python",
   "name": "python3"
  },
  "language_info": {
   "codemirror_mode": {
    "name": "ipython",
    "version": 3
   },
   "file_extension": ".py",
   "mimetype": "text/x-python",
   "name": "python",
   "nbconvert_exporter": "python",
   "pygments_lexer": "ipython3",
   "version": "3.11.1"
  }
 },
 "nbformat": 4,
 "nbformat_minor": 2
}
